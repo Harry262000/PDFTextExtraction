{
 "cells": [
  {
   "cell_type": "code",
   "execution_count": null,
   "metadata": {},
   "outputs": [
    {
     "name": "stdout",
     "output_type": "stream",
     "text": [
      "Requirement already satisfied: transformers in /home/harry/PDFTextExtraction/pdfs/lib/python3.12/site-packages (4.44.0)\n",
      "Requirement already satisfied: torch in /home/harry/PDFTextExtraction/pdfs/lib/python3.12/site-packages (2.4.0)\n",
      "Requirement already satisfied: filelock in /home/harry/PDFTextExtraction/pdfs/lib/python3.12/site-packages (from transformers) (3.15.4)\n",
      "Requirement already satisfied: huggingface-hub<1.0,>=0.23.2 in /home/harry/PDFTextExtraction/pdfs/lib/python3.12/site-packages (from transformers) (0.24.5)\n",
      "Requirement already satisfied: numpy>=1.17 in /home/harry/PDFTextExtraction/pdfs/lib/python3.12/site-packages (from transformers) (1.26.4)\n",
      "Requirement already satisfied: packaging>=20.0 in /home/harry/PDFTextExtraction/pdfs/lib/python3.12/site-packages (from transformers) (24.1)\n",
      "Requirement already satisfied: pyyaml>=5.1 in /home/harry/PDFTextExtraction/pdfs/lib/python3.12/site-packages (from transformers) (6.0.2)\n",
      "Requirement already satisfied: regex!=2019.12.17 in /home/harry/PDFTextExtraction/pdfs/lib/python3.12/site-packages (from transformers) (2024.7.24)\n",
      "Requirement already satisfied: requests in /home/harry/PDFTextExtraction/pdfs/lib/python3.12/site-packages (from transformers) (2.32.3)\n",
      "Requirement already satisfied: safetensors>=0.4.1 in /home/harry/PDFTextExtraction/pdfs/lib/python3.12/site-packages (from transformers) (0.4.4)\n",
      "Requirement already satisfied: tokenizers<0.20,>=0.19 in /home/harry/PDFTextExtraction/pdfs/lib/python3.12/site-packages (from transformers) (0.19.1)\n",
      "Requirement already satisfied: tqdm>=4.27 in /home/harry/PDFTextExtraction/pdfs/lib/python3.12/site-packages (from transformers) (4.66.5)\n",
      "Requirement already satisfied: typing-extensions>=4.8.0 in /home/harry/PDFTextExtraction/pdfs/lib/python3.12/site-packages (from torch) (4.12.2)\n",
      "Requirement already satisfied: sympy in /home/harry/PDFTextExtraction/pdfs/lib/python3.12/site-packages (from torch) (1.13.2)\n",
      "Requirement already satisfied: networkx in /home/harry/PDFTextExtraction/pdfs/lib/python3.12/site-packages (from torch) (3.3)\n",
      "Requirement already satisfied: jinja2 in /home/harry/PDFTextExtraction/pdfs/lib/python3.12/site-packages (from torch) (3.1.4)\n",
      "Requirement already satisfied: fsspec in /home/harry/PDFTextExtraction/pdfs/lib/python3.12/site-packages (from torch) (2024.6.1)\n",
      "Requirement already satisfied: setuptools in /home/harry/PDFTextExtraction/pdfs/lib/python3.12/site-packages (from torch) (72.2.0)\n",
      "Requirement already satisfied: nvidia-cuda-nvrtc-cu12==12.1.105 in /home/harry/PDFTextExtraction/pdfs/lib/python3.12/site-packages (from torch) (12.1.105)\n",
      "Requirement already satisfied: nvidia-cuda-runtime-cu12==12.1.105 in /home/harry/PDFTextExtraction/pdfs/lib/python3.12/site-packages (from torch) (12.1.105)\n",
      "Requirement already satisfied: nvidia-cuda-cupti-cu12==12.1.105 in /home/harry/PDFTextExtraction/pdfs/lib/python3.12/site-packages (from torch) (12.1.105)\n",
      "Requirement already satisfied: nvidia-cudnn-cu12==9.1.0.70 in /home/harry/PDFTextExtraction/pdfs/lib/python3.12/site-packages (from torch) (9.1.0.70)\n",
      "Requirement already satisfied: nvidia-cublas-cu12==12.1.3.1 in /home/harry/PDFTextExtraction/pdfs/lib/python3.12/site-packages (from torch) (12.1.3.1)\n",
      "Requirement already satisfied: nvidia-cufft-cu12==11.0.2.54 in /home/harry/PDFTextExtraction/pdfs/lib/python3.12/site-packages (from torch) (11.0.2.54)\n",
      "Requirement already satisfied: nvidia-curand-cu12==10.3.2.106 in /home/harry/PDFTextExtraction/pdfs/lib/python3.12/site-packages (from torch) (10.3.2.106)\n",
      "Requirement already satisfied: nvidia-cusolver-cu12==11.4.5.107 in /home/harry/PDFTextExtraction/pdfs/lib/python3.12/site-packages (from torch) (11.4.5.107)\n",
      "Requirement already satisfied: nvidia-cusparse-cu12==12.1.0.106 in /home/harry/PDFTextExtraction/pdfs/lib/python3.12/site-packages (from torch) (12.1.0.106)\n",
      "Requirement already satisfied: nvidia-nccl-cu12==2.20.5 in /home/harry/PDFTextExtraction/pdfs/lib/python3.12/site-packages (from torch) (2.20.5)\n",
      "Requirement already satisfied: nvidia-nvtx-cu12==12.1.105 in /home/harry/PDFTextExtraction/pdfs/lib/python3.12/site-packages (from torch) (12.1.105)\n",
      "Requirement already satisfied: triton==3.0.0 in /home/harry/PDFTextExtraction/pdfs/lib/python3.12/site-packages (from torch) (3.0.0)\n",
      "Requirement already satisfied: nvidia-nvjitlink-cu12 in /home/harry/PDFTextExtraction/pdfs/lib/python3.12/site-packages (from nvidia-cusolver-cu12==11.4.5.107->torch) (12.6.20)\n",
      "Requirement already satisfied: MarkupSafe>=2.0 in /home/harry/PDFTextExtraction/pdfs/lib/python3.12/site-packages (from jinja2->torch) (2.1.5)\n",
      "Requirement already satisfied: charset-normalizer<4,>=2 in /home/harry/PDFTextExtraction/pdfs/lib/python3.12/site-packages (from requests->transformers) (3.3.2)\n",
      "Requirement already satisfied: idna<4,>=2.5 in /home/harry/PDFTextExtraction/pdfs/lib/python3.12/site-packages (from requests->transformers) (3.7)\n",
      "Requirement already satisfied: urllib3<3,>=1.21.1 in /home/harry/PDFTextExtraction/pdfs/lib/python3.12/site-packages (from requests->transformers) (2.2.2)\n",
      "Requirement already satisfied: certifi>=2017.4.17 in /home/harry/PDFTextExtraction/pdfs/lib/python3.12/site-packages (from requests->transformers) (2024.7.4)\n",
      "Requirement already satisfied: mpmath<1.4,>=1.1.0 in /home/harry/PDFTextExtraction/pdfs/lib/python3.12/site-packages (from sympy->torch) (1.3.0)\n",
      "Requirement already satisfied: pymupdf in /home/harry/PDFTextExtraction/pdfs/lib/python3.12/site-packages (1.24.9)\n",
      "Requirement already satisfied: Pillow in /home/harry/PDFTextExtraction/pdfs/lib/python3.12/site-packages (10.4.0)\n",
      "Requirement already satisfied: opencv-python-headless in /home/harry/PDFTextExtraction/pdfs/lib/python3.12/site-packages (4.10.0.84)\n",
      "Requirement already satisfied: PyMuPDFb==1.24.9 in /home/harry/PDFTextExtraction/pdfs/lib/python3.12/site-packages (from pymupdf) (1.24.9)\n",
      "Requirement already satisfied: numpy>=1.21.2 in /home/harry/PDFTextExtraction/pdfs/lib/python3.12/site-packages (from opencv-python-headless) (1.26.4)\n"
     ]
    }
   ],
   "source": [
    "!pip install transformers torch\n",
    "!pip install pymupdf Pillow opencv-python-headless\n",
    "!pip install ipywidgets --upgrade\n",
    "\n"
   ]
  },
  {
   "cell_type": "code",
   "execution_count": 3,
   "metadata": {},
   "outputs": [
    {
     "name": "stderr",
     "output_type": "stream",
     "text": [
      "Some weights of LayoutLMv3ForTokenClassification were not initialized from the model checkpoint at microsoft/layoutlmv3-base and are newly initialized: ['classifier.bias', 'classifier.weight']\n",
      "You should probably TRAIN this model on a down-stream task to be able to use it for predictions and inference.\n"
     ]
    }
   ],
   "source": [
    "from transformers import LayoutLMv3ForTokenClassification, LayoutLMv3Processor\n",
    "from PIL import Image\n",
    "import torch\n",
    "\n",
    "# Load the LayoutLMv3 model\n",
    "model = LayoutLMv3ForTokenClassification.from_pretrained(\"microsoft/layoutlmv3-base\", num_labels=5)\n",
    "\n",
    "# Load the processor\n",
    "processor = LayoutLMv3Processor.from_pretrained(\"microsoft/layoutlmv3-base\")\n"
   ]
  },
  {
   "cell_type": "code",
   "execution_count": null,
   "metadata": {},
   "outputs": [],
   "source": []
  },
  {
   "cell_type": "code",
   "execution_count": null,
   "metadata": {},
   "outputs": [],
   "source": [
    "def extract_data_from_image(image):\n",
    "    # Process the image using the processor\n",
    "    inputs = processor(images=image, return_tensors=\"pt\")\n",
    "    \n",
    "    # Forward pass to get model predictions\n",
    "    with torch.no_grad():\n",
    "        outputs = model(**inputs)\n",
    "    \n",
    "    # Extract the logits and convert to predicted labels\n",
    "    logits = outputs.logits\n",
    "    predictions = logits.argmax(-1).squeeze().tolist()\n",
    "\n",
    "    # Decode the tokens and predictions\n",
    "    tokens = processor.tokenizer.convert_ids_to_tokens(inputs[\"input_ids\"].squeeze().tolist())\n",
    "    labels = [model.config.id2label[pred] for pred in predictions]\n",
    "\n",
    "    return tokens, labels\n",
    "\n",
    "# Example usage for the first page/image\n",
    "tokens, labels = extract_data_from_image(images[0])\n",
    "\n",
    "# Print the tokens with their labels\n",
    "for token, label in zip(tokens, labels):\n",
    "    print(f\"{token}: {label}\")\n"
   ]
  }
 ],
 "metadata": {
  "kernelspec": {
   "display_name": "pdfs",
   "language": "python",
   "name": "python3"
  },
  "language_info": {
   "codemirror_mode": {
    "name": "ipython",
    "version": 3
   },
   "file_extension": ".py",
   "mimetype": "text/x-python",
   "name": "python",
   "nbconvert_exporter": "python",
   "pygments_lexer": "ipython3",
   "version": "3.12.3"
  }
 },
 "nbformat": 4,
 "nbformat_minor": 2
}
