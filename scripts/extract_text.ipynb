{
 "cells": [
  {
   "cell_type": "code",
   "execution_count": 2,
   "metadata": {},
   "outputs": [],
   "source": [
    "import os\n",
    "from pdf2image import convert_from_path\n",
    "import pytesseract"
   ]
  },
  {
   "cell_type": "code",
   "execution_count": 3,
   "metadata": {},
   "outputs": [],
   "source": [
    "# Paths\n",
    "pdf_dir = '../data/raw_pdfs/'\n",
    "img_dir = '../data/extracted_images/'\n",
    "text_dir = '../data/extracted_text/'\n",
    "\n",
    "# Ensure directories exist\n",
    "os.makedirs(img_dir, exist_ok=True)\n",
    "os.makedirs(text_dir, exist_ok=True)\n",
    "\n",
    "# List all PDF files in the raw_pdfs directory\n",
    "pdf_files = [f for f in os.listdir(pdf_dir) if f.endswith('.pdf')]\n"
   ]
  },
  {
   "cell_type": "code",
   "execution_count": 11,
   "metadata": {},
   "outputs": [],
   "source": [
    "for pdf_file in pdf_files:\n",
    "    pdf_path = os.path.join(pdf_dir, pdf_file)\n",
    "    print(f\"Processing {pdf_file}...\")\n",
    " # Convert PDF to images\n",
    "    images = convert_from_path(pdf_path, dpi=300, poppler_path=\"/usr/bin\")\n",
    "\n",
    "    extracted_text = \"\"\n",
    "    for i, image in enumerate(images, start=1):\n",
    "        img_filename = f\"{os.path.splitext(pdf_file)[0]}_page_{i}.jpg\"\n",
    "        img_path = os.path.join(img_dir, img_filename)\n",
    "        \n",
    "        # Save image\n",
    "        image.save(img_path, 'JPEG')\n",
    "\n",
    "        # Extract text from image\n",
    "        text = pytesseract.image_to_string(image)\n",
    "        extracted_text += f\"--- Page {i} ---\\n{text}\\n\"\n",
    "\n",
    "    # Save extracted text to a file\n",
    "    text_filename = f\"{os.path.splitext(pdf_file)[0]}.txt\"\n",
    "    text_path = os.path.join(text_dir, text_filename)\n",
    "    \n",
    "    with open(text_path, 'w', encoding='utf-8') as f:\n",
    "        f.write(extracted_text)\n",
    "\n",
    "    print(f\"Finished processing {pdf_file}. Extracted text saved to {text_path}.\")"
   ]
  },
  {
   "cell_type": "code",
   "execution_count": 10,
   "metadata": {},
   "outputs": [
    {
     "ename": "IndentationError",
     "evalue": "unindent does not match any outer indentation level (<string>, line 13)",
     "output_type": "error",
     "traceback": [
      "\u001b[0;36m  File \u001b[0;32m<string>:13\u001b[0;36m\u001b[0m\n\u001b[0;31m    text_filename = f\"{os.path.splitext(pdf_file)[0]}.txt\"\u001b[0m\n\u001b[0m                                                          ^\u001b[0m\n\u001b[0;31mIndentationError\u001b[0m\u001b[0;31m:\u001b[0m unindent does not match any outer indentation level\n"
     ]
    }
   ],
   "source": []
  },
  {
   "cell_type": "code",
   "execution_count": null,
   "metadata": {},
   "outputs": [],
   "source": []
  }
 ],
 "metadata": {
  "kernelspec": {
   "display_name": "pdfs",
   "language": "python",
   "name": "python3"
  },
  "language_info": {
   "codemirror_mode": {
    "name": "ipython",
    "version": 3
   },
   "file_extension": ".py",
   "mimetype": "text/x-python",
   "name": "python",
   "nbconvert_exporter": "python",
   "pygments_lexer": "ipython3",
   "version": "3.12.3"
  }
 },
 "nbformat": 4,
 "nbformat_minor": 2
}
